{
 "cells": [
  {
   "cell_type": "markdown",
   "metadata": {
    "colab_type": "text",
    "id": "nnlt30BOARTX"
   },
   "source": [
    "imports"
   ]
  },
  {
   "cell_type": "code",
   "execution_count": 1,
   "metadata": {
    "colab": {},
    "colab_type": "code",
    "id": "9l7GpxAxARTa"
   },
   "outputs": [],
   "source": [
    "from __future__ import print_function, division\n",
    "from builtins import range\n",
    "\n",
    "import os\n",
    "import sys,re\n",
    "import numpy as np\n",
    "import matplotlib.pyplot as plt\n",
    "from tensorflow.keras.preprocessing.sequence import pad_sequences\n",
    "from tensorflow.keras.preprocessing.text import Tokenizer\n",
    "from tensorflow.keras import Input, Model\n",
    "from tensorflow.keras.layers import Dense, GlobalMaxPool1D, SpatialDropout1D, Conv1D\n",
    "from tensorflow.keras.layers import LSTM, MaxPooling1D, Embedding, Dropout, GlobalMaxPooling1D\n",
    "from tensorflow.keras.optimizers import Adam\n",
    "# import tensorflow.keras.backend as K\n",
    "from sklearn.metrics import roc_auc_score"
   ]
  },
  {
   "cell_type": "code",
   "execution_count": null,
   "metadata": {
    "colab": {
     "base_uri": "https://localhost:8080/",
     "height": 122
    },
    "colab_type": "code",
    "id": "DkMPQu91BXPc",
    "outputId": "0e5e204d-59bf-4506-91e7-4df8238f840f"
   },
   "outputs": [],
   "source": [
    "# from google.colab import drive\n",
    "\n",
    "# drive.mount(\"/content/gdrive\")"
   ]
  },
  {
   "cell_type": "markdown",
   "metadata": {
    "colab_type": "text",
    "id": "c47TsKi6ARTh"
   },
   "source": [
    "some configuration"
   ]
  },
  {
   "cell_type": "code",
   "execution_count": 2,
   "metadata": {
    "colab": {},
    "colab_type": "code",
    "id": "mbJfxumqARTi"
   },
   "outputs": [],
   "source": [
    "MAX_SEQUENCE_LENGTH = 222\n",
    "MAX_VOCAB_SIZE = 30000\n",
    "EMBEDDING_DIM = 50\n",
    "VALIDATION_SPLIT = 0.2\n",
    "BATCH_SIZE = 64\n",
    "EPOCHS = 3"
   ]
  },
  {
   "cell_type": "markdown",
   "metadata": {
    "colab_type": "text",
    "id": "T05lokD2ARTn"
   },
   "source": [
    "load in pre-trained word vectors"
   ]
  },
  {
   "cell_type": "code",
   "execution_count": 3,
   "metadata": {
    "colab": {},
    "colab_type": "code",
    "id": "IvIL8tcVARTo"
   },
   "outputs": [],
   "source": [
    "word2vec = {}\n",
    "with open(os.path.join('/home/hassan/Documents/GEC_/toxic/glove.6B.%sd.txt' % EMBEDDING_DIM)) as f:\n",
    "  # is just a space-separated text file in the format:\n",
    "  # word vec[0] vec[1] vec[2] ...\n",
    "  for line in f:\n",
    "    values = line.split()\n",
    "    word = values[0]\n",
    "    vec = np.asarray(values[1:], dtype='float32')\n",
    "    word2vec[word] = vec\n"
   ]
  },
  {
   "cell_type": "code",
   "execution_count": null,
   "metadata": {
    "colab": {
     "base_uri": "https://localhost:8080/",
     "height": 34
    },
    "colab_type": "code",
    "id": "h68EczEPARTs",
    "outputId": "cb9f9ffa-1216-407c-dab6-dbe5508a391d"
   },
   "outputs": [],
   "source": [
    "print('Found %s word vectors.' % len(word2vec))"
   ]
  },
  {
   "cell_type": "code",
   "execution_count": null,
   "metadata": {
    "colab": {
     "base_uri": "https://localhost:8080/",
     "height": 428
    },
    "colab_type": "code",
    "id": "Mog2q5gFARTy",
    "outputId": "55ff9254-8fe0-4ba3-a574-17957696a40c"
   },
   "outputs": [],
   "source": [
    "# !python -m spacy download en_core_web_sm\n",
    "# import spacy\n",
    "\n",
    "# nlp = spacy.load(\"en_core_web_sm\")"
   ]
  },
  {
   "cell_type": "markdown",
   "metadata": {
    "colab_type": "text",
    "id": "XEpDF2wVART4"
   },
   "source": [
    "prepare text samples and their labels <br/>\n"
   ]
  },
  {
   "cell_type": "code",
   "execution_count": 4,
   "metadata": {
    "colab": {
     "base_uri": "https://localhost:8080/",
     "height": 34
    },
    "colab_type": "code",
    "id": "5tS0a_cFART6",
    "outputId": "e808515a-800c-4f27-9fde-5a5c31d9f330"
   },
   "outputs": [
    {
     "name": "stdout",
     "output_type": "stream",
     "text": [
      "--- 639.4278144836426 seconds ---\n"
     ]
    }
   ],
   "source": [
    "import time\n",
    "start_time = time.time()\n",
    "\n",
    "sentences = np.empty(0,dtype='object')\n",
    "targets = np.zeros((0,222),dtype='int32')\n",
    "\n",
    "f=open('/home/hassan/Documents/GEC_/toxic/conll14st-preprocessed.m2')\n",
    "line = f.readline()\n",
    "while line:\n",
    "    line = line.strip()\n",
    "    if line:\n",
    "        if re.search(\"^S\",line):\n",
    "            line = line[2:]\n",
    "            lenline = len(line.split())\n",
    "            a=np.empty(1,dtype='object')\n",
    "            a[0]=line\n",
    "            sentences=np.concatenate([sentences,a])\n",
    "            b=np.zeros((1,222),dtype='int32')\n",
    "            \n",
    "            targets=np.concatenate([targets,b])\n",
    "#             i = i + 1\n",
    "#         elif re.search(\"^A\",line):\n",
    "#             # found annotation\n",
    "#             for key in labels:\n",
    "#                 if re.search(key,line):\n",
    "#                     if lenline > int(line[2:4]):\n",
    "#                         targets[i-lenline+int(line[2:4])]=int(labels.get(key))\n",
    "#                     else:\n",
    "#                         targets[i-lenline+(int(line[2:4])-1)]=int(labels.get(key))\n",
    "#                     #print(words)\n",
    "#                     #print(targets)\n",
    "#                     #print(pos)\n",
    "#                     break\n",
    "    line=f.readline()\n",
    "print(\"--- %s seconds ---\" % (time.time() - start_time))\n"
   ]
  },
  {
   "cell_type": "code",
   "execution_count": 5,
   "metadata": {
    "colab": {
     "base_uri": "https://localhost:8080/",
     "height": 68
    },
    "colab_type": "code",
    "id": "DmnYHKV9ARUA",
    "outputId": "acf4e716-0acb-4747-84a3-5e23b71a749e"
   },
   "outputs": [
    {
     "name": "stdout",
     "output_type": "stream",
     "text": [
      "This will , if not already , caused problems as there are very limited spaces for us .\n",
      "(57151,)\n"
     ]
    }
   ],
   "source": [
    "print(sentences[3])\n",
    "print(sentences.shape)\n",
    "# print(targets.shape)"
   ]
  },
  {
   "cell_type": "markdown",
   "metadata": {
    "colab_type": "text",
    "id": "d0nMLQaFARUI"
   },
   "source": [
    "convert the sentences (strings) into integers"
   ]
  },
  {
   "cell_type": "code",
   "execution_count": 6,
   "metadata": {
    "colab": {},
    "colab_type": "code",
    "id": "TDttWaJAARUJ"
   },
   "outputs": [],
   "source": [
    "tokenizer = Tokenizer( num_words=MAX_VOCAB_SIZE, filters='\\t\\n')\n",
    "tokenizer.fit_on_texts(sentences)\n",
    "sequences = tokenizer.texts_to_sequences(sentences)\n",
    "\n",
    "word2idx = tokenizer.word_index"
   ]
  },
  {
   "cell_type": "code",
   "execution_count": 21,
   "metadata": {
    "colab": {
     "base_uri": "https://localhost:8080/",
     "height": 102
    },
    "colab_type": "code",
    "id": "JkmbrONiARUP",
    "outputId": "af689119-508b-484c-a50e-924e1448a3ca"
   },
   "outputs": [
    {
     "name": "stdout",
     "output_type": "stream",
     "text": [
      "sequence[3]:  [24, 23, 2, 74, 20, 504, 2, 361, 96, 15, 48, 16, 127, 202, 3939, 12, 206, 3]\n",
      "<class 'list'>\n",
      "max sequence length: 222\n",
      "min sequence length: 1\n",
      "[67, 161, 456, 2, 37, 2, 21, 116, 32, 19, 11162, 130, 11163, 95, 8232, 85, 11164, 85, 7380, 85, 7380, 85, 1188, 117, 77, 113, 19, 32, 19, 11162, 130, 11163, 95, 8232, 85, 11164, 85, 7380, 85, 7380, 85, 1188, 78, 1372, 85, 15022, 85, 9422, 85, 25073, 85, 9423, 85, 15023, 85, 15024, 85, 15025, 85, 15026, 85, 15027, 85, 15028, 85, 9422, 85, 15029, 85, 9423, 85, 25074, 85, 15030, 85, 25075, 1521, 85, 4422, 85, 15031, 85, 4422, 85, 15032, 85, 4422, 85, 15033, 85, 15034, 85, 4422, 85, 25076, 25077, 85, 4422, 85, 10587, 703, 85, 4422, 85, 15035, 85, 4422, 85, 15036, 85, 25078, 95, 15037, 95, 15038, 95, 15039, 95, 15040, 95, 25079, 25080, 95, 15041, 95, 15042, 95, 25081, 95, 25082, 25083, 95, 15043, 95, 15044, 95, 8232, 85, 15045, 85, 8024, 85, 8024, 85, 1372, 85, 15046, 85, 6623, 85, 15047, 85, 9424, 85, 15048, 85, 15049, 384, 58, 384, 187, 85, 15050, 85, 15051, 85, 6623, 85, 364, 25084, 85, 9424, 85, 15052, 85, 15053, 384, 5926, 384, 47, 384, 8283, 384, 47, 384, 663, 384, 47, 384, 1373, 384, 84, 25085, 384, 47, 384, 563, 384, 47, 384, 703, 384, 47, 384, 2916, 384, 47, 384, 4471, 85, 15054, 95, 25086, 25087, 95, 15055, 95, 15056, 95, 25088, 95, 15057]\n",
      "Found 29347 unique tokens.\n"
     ]
    }
   ],
   "source": [
    "print(\"sequence[3]: \", sequences[3])\n",
    "print(type(sequences))\n",
    "\n",
    "print(\"max sequence length:\", max(len(s) for s in sequences))\n",
    "print(\"min sequence length:\", min(len(s) for s in sequences))\n",
    "for s in sequences:\n",
    "    if len(s)==222:\n",
    "        print(s)\n",
    "# s = sorted(len(s) for s in sequences)\n",
    "# print(\"median sequence length:\", s[len(s) // 2])\n",
    "#\n",
    "# print(\"max word index:\", max(max(seq) for seq in sequences if len(seq) > 0))\n",
    "\n",
    "print('Found %s unique tokens.' % len(word2idx))\n",
    "# print(next(iter(word2idx)))"
   ]
  },
  {
   "cell_type": "code",
   "execution_count": 10,
   "metadata": {},
   "outputs": [
    {
     "name": "stdout",
     "output_type": "stream",
     "text": [
      "--- 1.2189347743988037 seconds ---\n"
     ]
    }
   ],
   "source": [
    "import time\n",
    "start_time = time.time()\n",
    "\n",
    "labels = { \"ArtOrDet\":2,\"Nn\":3,\"Vt\":4,\"Prep\":5,\"Vform\":6,\"Wform\":7,\"SVA\":8 }\n",
    "i=-1\n",
    "f=open('/home/hassan/Documents/GEC_/toxic/conll14st-preprocessed.m2')\n",
    "line = f.readline()\n",
    "while line:\n",
    "    line = line.strip()\n",
    "    if line:\n",
    "        if re.search(\"^S\",line):\n",
    "            i = i + 1\n",
    "            for j in range(len(sequences[i])):\n",
    "                targets[i,222-len(sequences[i])+j] = 1\n",
    "        elif re.search(\"^A\",line):\n",
    "            # found annotation\n",
    "            for key in labels:\n",
    "                if re.search(key,line):\n",
    "                    if len(sequences[i]) > int(line[2:4]):\n",
    "                        targets[i,222-len(sequences[i])+int(line[2:4])]=int(labels.get(key))\n",
    "                    else:\n",
    "                        targets[i,222-len(sequences[i])+(int(line[2:4])-1)]=int(labels.get(key))\n",
    "                    break\n",
    "    line=f.readline()\n",
    "print(\"--- %s seconds ---\" % (time.time() - start_time))\n"
   ]
  },
  {
   "cell_type": "code",
   "execution_count": 20,
   "metadata": {},
   "outputs": [
    {
     "name": "stdout",
     "output_type": "stream",
     "text": [
      "[0 0 0 0 0 0 0 0 0 0 0 0 0 0 0 0 0 0 0 0 0 0 0 0 0 0 0 0 0 0 0 0 0 0 0 0 0\n",
      " 0 0 0 0 0 0 0 0 0 0 0 0 0 0 0 0 0 0 0 0 0 0 0 0 0 0 0 0 0 0 0 0 0 0 0 0 0\n",
      " 0 0 0 0 0 0 0 0 0 0 0 0 0 0 0 0 0 0 0 0 0 0 0 0 0 0 0 0 0 0 0 0 0 0 0 0 0\n",
      " 0 0 0 0 0 0 0 0 0 0 0 0 0 0 0 0 0 0 0 0 0 0 0 0 0 0 0 0 0 0 0 0 0 0 0 0 0\n",
      " 0 0 0 0 0 0 0 0 0 0 0 0 0 0 0 0 0 0 0 0 0 0 0 0 0 0 0 0 0 0 0 0 0 0 0 0 0\n",
      " 0 0 0 0 0 0 0 0 0 0 0 0 0 0 0 0 0 0 0 1 1 1 1 1 1 1 6 1 1 1 8 1 1 3 1 1 1]\n"
     ]
    }
   ],
   "source": [
    "print(targets[3])"
   ]
  },
  {
   "cell_type": "markdown",
   "metadata": {
    "colab_type": "text",
    "id": "LH7wYYjxARUT"
   },
   "source": [
    "pad sequences so that we get a N x T matrix"
   ]
  },
  {
   "cell_type": "code",
   "execution_count": 15,
   "metadata": {
    "colab": {},
    "colab_type": "code",
    "id": "dNz2m_1zARUU"
   },
   "outputs": [],
   "source": [
    "\n",
    "data = pad_sequences(sequences, maxlen=MAX_SEQUENCE_LENGTH)\n"
   ]
  },
  {
   "cell_type": "code",
   "execution_count": 16,
   "metadata": {},
   "outputs": [
    {
     "name": "stdout",
     "output_type": "stream",
     "text": [
      "[   0    0    0    0    0    0    0    0    0    0    0    0    0    0\n",
      "    0    0    0    0    0    0    0    0    0    0    0    0    0    0\n",
      "    0    0    0    0    0    0    0    0    0    0    0    0    0    0\n",
      "    0    0    0    0    0    0    0    0    0    0    0    0    0    0\n",
      "    0    0    0    0    0    0    0    0    0    0    0    0    0    0\n",
      "    0    0    0    0    0    0    0    0    0    0    0    0    0    0\n",
      "    0    0    0    0    0    0    0    0    0    0    0    0    0    0\n",
      "    0    0    0    0    0    0    0    0    0    0    0    0    0    0\n",
      "    0    0    0    0    0    0    0    0    0    0    0    0    0    0\n",
      "    0    0    0    0    0    0    0    0    0    0    0    0    0    0\n",
      "    0    0    0    0    0    0    0    0    0    0    0    0    0    0\n",
      "    0    0    0    0    0    0    0    0    0    0    0    0    0    0\n",
      "    0    0    0    0    0    0    0    0    0    0    0    0    0    0\n",
      "    0    0    0    0    0    0    0    0    0    0    0    0    0    0\n",
      "    0    0    0    0    0    0    0    0   24   23    2   74   20  504\n",
      "    2  361   96   15   48   16  127  202 3939   12  206    3]\n",
      "(57151, 222)\n",
      "()\n",
      "<class 'numpy.int32'>\n"
     ]
    }
   ],
   "source": [
    "print(data[3])\n",
    "print(data.shape)\n",
    "print(data[1][0].shape)\n",
    "print(type(data[1,0]))"
   ]
  },
  {
   "cell_type": "code",
   "execution_count": null,
   "metadata": {
    "colab": {
     "base_uri": "https://localhost:8080/",
     "height": 34
    },
    "colab_type": "code",
    "id": "q08RnZJQIdoM",
    "outputId": "751c82a7-2892-4eb2-d375-79c07ff84e46"
   },
   "outputs": [],
   "source": [
    "from sklearn import preprocessing\n",
    "lb = preprocessing.LabelBinarizer()\n",
    "ybin = lb.fit(targets)\n",
    "lb.classes_\n"
   ]
  },
  {
   "cell_type": "code",
   "execution_count": null,
   "metadata": {
    "colab": {
     "base_uri": "https://localhost:8080/",
     "height": 51
    },
    "colab_type": "code",
    "id": "xXC5hlr-I9-m",
    "outputId": "523f5526-f546-4b14-ef5f-aa7818b4156f"
   },
   "outputs": [],
   "source": [
    "targ = lb.transform(targets)\n",
    "print(targ[45])\n",
    "print(targ.shape)"
   ]
  },
  {
   "cell_type": "code",
   "execution_count": null,
   "metadata": {
    "colab": {},
    "colab_type": "code",
    "id": "NolcqFTTARUY"
   },
   "outputs": [],
   "source": [
    "# del words\n",
    "# del sequences\n",
    "# del targets"
   ]
  },
  {
   "cell_type": "code",
   "execution_count": null,
   "metadata": {
    "colab": {
     "base_uri": "https://localhost:8080/",
     "height": 323
    },
    "colab_type": "code",
    "id": "ExsLm192ARUe",
    "outputId": "f60502fc-577b-4ffb-ed96-4d73e1d6abaf",
    "scrolled": true
   },
   "outputs": [],
   "source": [
    "print(\"data[0]\", data[0])\n",
    "print('Shape of data tensor:', data.shape)"
   ]
  },
  {
   "cell_type": "code",
   "execution_count": null,
   "metadata": {
    "colab": {},
    "colab_type": "code",
    "id": "HWRgc5jQARUh"
   },
   "outputs": [],
   "source": [
    "x_training, x_test = data[:929254], data[929254:]\n",
    "y_training, y_test = targ[:929254], targ[929254:]"
   ]
  },
  {
   "cell_type": "code",
   "execution_count": null,
   "metadata": {
    "colab": {
     "base_uri": "https://localhost:8080/",
     "height": 51
    },
    "colab_type": "code",
    "id": "MxKuGp2AARUp",
    "outputId": "d625558d-ad48-49f1-c3ab-f3edced08ccf"
   },
   "outputs": [],
   "source": [
    "print(type(y_training))\n",
    "print(y_training[45])"
   ]
  },
  {
   "cell_type": "code",
   "execution_count": 26,
   "metadata": {
    "colab": {
     "base_uri": "https://localhost:8080/",
     "height": 34
    },
    "colab_type": "code",
    "id": "OeTKto5kARUv",
    "outputId": "1f4404d0-2b14-4c25-bbe7-dff942dfc1ae"
   },
   "outputs": [
    {
     "data": {
      "text/plain": [
       "[',']"
      ]
     },
     "execution_count": 26,
     "metadata": {},
     "output_type": "execute_result"
    }
   ],
   "source": [
    "[word for word, index in word2idx.items() if index == 2]"
   ]
  },
  {
   "cell_type": "markdown",
   "metadata": {
    "colab_type": "text",
    "id": "sA2GUvUdARUy"
   },
   "source": [
    "prepare embedding matrix <br/>\n",
    "Filling pre-trained embeddings..."
   ]
  },
  {
   "cell_type": "code",
   "execution_count": null,
   "metadata": {
    "colab": {
     "base_uri": "https://localhost:8080/",
     "height": 34
    },
    "colab_type": "code",
    "id": "lXDJQwMTARUz",
    "outputId": "41db6fc3-b368-4608-f929-fe5d290a7ccb"
   },
   "outputs": [],
   "source": [
    "print(\"len word2idx\", len(word2idx))\n",
    "num_words = min(MAX_VOCAB_SIZE, len(word2idx) + 1)\n",
    "embedding_matrix = np.zeros((num_words, EMBEDDING_DIM))\n",
    "for word, i in word2idx.items():\n",
    "  if i < MAX_VOCAB_SIZE:\n",
    "    embedding_vector = word2vec.get(word)\n",
    "    if embedding_vector is not None:\n",
    "      # words not found in embedding index will be all zeros.\n",
    "      embedding_matrix[i] = embedding_vector\n"
   ]
  },
  {
   "cell_type": "code",
   "execution_count": null,
   "metadata": {
    "colab": {
     "base_uri": "https://localhost:8080/",
     "height": 204
    },
    "colab_type": "code",
    "id": "u154r4WrARU6",
    "outputId": "5c9a6016-42dc-4dd6-cfca-3d82ced2e9e1"
   },
   "outputs": [],
   "source": [
    "print(\"embedding_matrix shape:\", embedding_matrix.shape)\n",
    "print(word2idx.get(\"creating\"))\n",
    "print(\"embedding_matrix[1113]\", embedding_matrix[1113])"
   ]
  },
  {
   "cell_type": "markdown",
   "metadata": {
    "colab_type": "text",
    "id": "FGSasRX3ARVB"
   },
   "source": [
    "load pre-trained word embeddings into an Embedding layer <br/>\n",
    "note that we set trainable = False so as to keep the embeddings fixed <br/>\n",
    "Building Embedding layer ..."
   ]
  },
  {
   "cell_type": "code",
   "execution_count": null,
   "metadata": {
    "colab": {},
    "colab_type": "code",
    "id": "TbswejPNARVC"
   },
   "outputs": [],
   "source": [
    "embedding_layer = Embedding(\n",
    "  num_words,\n",
    "  EMBEDDING_DIM,\n",
    "  weights=[embedding_matrix],\n",
    "  input_length=MAX_SEQUENCE_LENGTH,\n",
    "  trainable=False\n",
    ")"
   ]
  },
  {
   "cell_type": "markdown",
   "metadata": {
    "colab_type": "text",
    "id": "W0vbItq-ARVI"
   },
   "source": [
    "Building model..."
   ]
  },
  {
   "cell_type": "code",
   "execution_count": null,
   "metadata": {
    "colab": {},
    "colab_type": "code",
    "id": "oeWxEAyQARVJ"
   },
   "outputs": [],
   "source": [
    "input_ = Input(shape=(MAX_SEQUENCE_LENGTH,))\n",
    "x = embedding_layer(input_)\n",
    "x = Dense(200, activation='relu')(x)\n",
    "x = LSTM(128, dropout=0.2,return_sequences=True)(x)\n",
    "# x = MaxPooling1D(3)(x)\n",
    "# x = Dropout(0.2)(x)\n",
    "# x = Conv1D(128, 3, activation='relu')(x)\n",
    "# x = MaxPooling1D(3)(x)\n",
    "# x = Dropout(0.2)(x)\n",
    "x = LSTM(128, dropout=0.2, return_sequences=True)(x)\n",
    "x = GlobalMaxPooling1D()(x)\n",
    "# x = Dropout(0.2)(x)\n",
    "# x = Dense(128, activation='relu')(x)\n",
    "output = Dense(8, activation='softmax')(x)\n",
    "#this takes waay too much time\n",
    "model = Model(input_, output)"
   ]
  },
  {
   "cell_type": "code",
   "execution_count": null,
   "metadata": {
    "colab": {
     "base_uri": "https://localhost:8080/",
     "height": 425
    },
    "colab_type": "code",
    "id": "sjzgJjRJARVN",
    "outputId": "0ea91422-960c-483b-c72c-8196f60585d6"
   },
   "outputs": [],
   "source": [
    "model.compile(\n",
    "   loss='categorical_crossentropy',\n",
    "   optimizer='adam',\n",
    "   metrics=['accuracy']\n",
    ")\n",
    "# Display the model's architecture\n",
    "model.summary()"
   ]
  },
  {
   "cell_type": "code",
   "execution_count": null,
   "metadata": {
    "colab": {
     "base_uri": "https://localhost:8080/",
     "height": 136
    },
    "colab_type": "code",
    "id": "fG7j27G8ARVR",
    "outputId": "78b8d6a4-400b-439c-ec88-f69db90786eb"
   },
   "outputs": [],
   "source": [
    "print('Training model...')\n",
    "r = model.fit(\n",
    "  x_training,\n",
    "  y_training,\n",
    "  batch_size=BATCH_SIZE,\n",
    "  epochs=EPOCHS,\n",
    "  validation_split=VALIDATION_SPLIT\n",
    ")"
   ]
  },
  {
   "cell_type": "code",
   "execution_count": null,
   "metadata": {
    "colab": {
     "base_uri": "https://localhost:8080/",
     "height": 34
    },
    "colab_type": "code",
    "id": "1Zpk2PNyARVU",
    "outputId": "19c22ef9-368a-4f43-ffbc-a294ed176afd"
   },
   "outputs": [],
   "source": [
    "e = model.evaluate(\n",
    "    x_test,\n",
    "    y_test\n",
    ")"
   ]
  },
  {
   "cell_type": "markdown",
   "metadata": {
    "colab_type": "text",
    "id": "6yg6F-XYARVZ"
   },
   "source": [
    "plot some data"
   ]
  },
  {
   "cell_type": "code",
   "execution_count": null,
   "metadata": {
    "colab": {},
    "colab_type": "code",
    "id": "uqENomfBARVa"
   },
   "outputs": [],
   "source": [
    "%matplotlib inline"
   ]
  },
  {
   "cell_type": "code",
   "execution_count": null,
   "metadata": {
    "colab": {
     "base_uri": "https://localhost:8080/",
     "height": 513
    },
    "colab_type": "code",
    "id": "nSmDc0_iARVg",
    "outputId": "69f2def3-4f3e-4e65-f18a-1f0c4bc60795"
   },
   "outputs": [],
   "source": [
    "plt.plot(r.history['loss'], label='loss')\n",
    "plt.plot(r.history['val_loss'], label='val_loss')\n",
    "plt.legend()\n",
    "plt.show()\n",
    "\n",
    "\n",
    "plt.plot(r.history['accuracy'], label='acc')\n",
    "plt.plot(r.history['val_accuracy'], label='val_acc')\n",
    "plt.legend()\n",
    "plt.show()\n"
   ]
  },
  {
   "cell_type": "code",
   "execution_count": null,
   "metadata": {
    "colab": {
     "base_uri": "https://localhost:8080/",
     "height": 34
    },
    "colab_type": "code",
    "id": "kMeS4tszARVk",
    "outputId": "30d7ccad-4dc4-46d1-a04b-0ba96492e117"
   },
   "outputs": [],
   "source": [
    "p = model.predict(x_training)\n",
    "aucs = []\n",
    "for j in range(6):\n",
    "    auc = roc_auc_score(y_training[:,j], p[:,j])\n",
    "    aucs.append(auc)\n",
    "print(np.mean(aucs))"
   ]
  },
  {
   "cell_type": "code",
   "execution_count": null,
   "metadata": {
    "colab": {
     "base_uri": "https://localhost:8080/",
     "height": 34
    },
    "colab_type": "code",
    "id": "IS7FR0mKARVp",
    "outputId": "945b13f7-8d68-4579-e33a-9111649af68b"
   },
   "outputs": [],
   "source": [
    "# scores = model.evaluate(X_test, y_test, verbose=0)\n",
    "print(\"Accuracy: %.2f%%\" % (e[1]*100))"
   ]
  },
  {
   "cell_type": "code",
   "execution_count": null,
   "metadata": {
    "colab": {},
    "colab_type": "code",
    "id": "0dtq_InWCXfl"
   },
   "outputs": [],
   "source": [
    "model.save('/home/hassan/Documents/GEC_/GEC_classifie7C-2-.h5')"
   ]
  }
 ],
 "metadata": {
  "colab": {
   "collapsed_sections": [],
   "name": "GEC_classifie7C.ipynb",
   "provenance": []
  },
  "kernelspec": {
   "display_name": "Python 3",
   "language": "python",
   "name": "python3"
  },
  "language_info": {
   "codemirror_mode": {
    "name": "ipython",
    "version": 3
   },
   "file_extension": ".py",
   "mimetype": "text/x-python",
   "name": "python",
   "nbconvert_exporter": "python",
   "pygments_lexer": "ipython3",
   "version": "3.8.5"
  }
 },
 "nbformat": 4,
 "nbformat_minor": 1
}
