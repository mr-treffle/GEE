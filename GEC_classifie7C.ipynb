{
  "nbformat": 4,
  "nbformat_minor": 0,
  "metadata": {
    "kernelspec": {
      "display_name": "Python 3",
      "language": "python",
      "name": "python3"
    },
    "language_info": {
      "codemirror_mode": {
        "name": "ipython",
        "version": 3
      },
      "file_extension": ".py",
      "mimetype": "text/x-python",
      "name": "python",
      "nbconvert_exporter": "python",
      "pygments_lexer": "ipython3",
      "version": "3.8.5"
    },
    "colab": {
      "name": "GEC_classifie7C.ipynb",
      "provenance": [],
      "collapsed_sections": []
    }
  },
  "cells": [
    {
      "cell_type": "markdown",
      "metadata": {
        "id": "nnlt30BOARTX",
        "colab_type": "text"
      },
      "source": [
        "imports"
      ]
    },
    {
      "cell_type": "code",
      "metadata": {
        "id": "9l7GpxAxARTa",
        "colab_type": "code",
        "colab": {}
      },
      "source": [
        "from __future__ import print_function, division\n",
        "from builtins import range\n",
        "\n",
        "import os\n",
        "import sys,re\n",
        "import numpy as np\n",
        "import matplotlib.pyplot as plt\n",
        "from tensorflow.keras.preprocessing.sequence import pad_sequences\n",
        "from tensorflow.keras.preprocessing.text import Tokenizer\n",
        "from tensorflow.keras import Input, Model\n",
        "from tensorflow.keras.layers import Dense, GlobalMaxPool1D, SpatialDropout1D, Conv1D\n",
        "from tensorflow.keras.layers import LSTM, MaxPooling1D, Embedding, Dropout, GlobalMaxPooling1D\n",
        "from tensorflow.keras.optimizers import Adam\n",
        "# import tensorflow.keras.backend as K\n",
        "from sklearn.metrics import roc_auc_score"
      ],
      "execution_count": null,
      "outputs": []
    },
    {
      "cell_type": "code",
      "metadata": {
        "id": "2WXSYCM7gjaA",
        "colab_type": "code",
        "colab": {}
      },
      "source": [
        ""
      ],
      "execution_count": null,
      "outputs": []
    },
    {
      "cell_type": "code",
      "metadata": {
        "id": "DkMPQu91BXPc",
        "colab_type": "code",
        "colab": {
          "base_uri": "https://localhost:8080/",
          "height": 122
        },
        "outputId": "0e5e204d-59bf-4506-91e7-4df8238f840f"
      },
      "source": [
        "from google.colab import drive\n",
        "\n",
        "drive.mount(\"/content/gdrive\")"
      ],
      "execution_count": null,
      "outputs": [
        {
          "output_type": "stream",
          "text": [
            "Go to this URL in a browser: https://accounts.google.com/o/oauth2/auth?client_id=947318989803-6bn6qk8qdgf4n4g3pfee6491hc0brc4i.apps.googleusercontent.com&redirect_uri=urn%3aietf%3awg%3aoauth%3a2.0%3aoob&scope=email%20https%3a%2f%2fwww.googleapis.com%2fauth%2fdocs.test%20https%3a%2f%2fwww.googleapis.com%2fauth%2fdrive%20https%3a%2f%2fwww.googleapis.com%2fauth%2fdrive.photos.readonly%20https%3a%2f%2fwww.googleapis.com%2fauth%2fpeopleapi.readonly&response_type=code\n",
            "\n",
            "Enter your authorization code:\n",
            "··········\n",
            "Mounted at /content/gdrive\n"
          ],
          "name": "stdout"
        }
      ]
    },
    {
      "cell_type": "markdown",
      "metadata": {
        "id": "c47TsKi6ARTh",
        "colab_type": "text"
      },
      "source": [
        "some configuration"
      ]
    },
    {
      "cell_type": "code",
      "metadata": {
        "id": "mbJfxumqARTi",
        "colab_type": "code",
        "colab": {}
      },
      "source": [
        "MAX_SEQUENCE_LENGTH = 232\n",
        "MAX_VOCAB_SIZE = 30000\n",
        "EMBEDDING_DIM = 50\n",
        "VALIDATION_SPLIT = 0.2\n",
        "BATCH_SIZE = 128\n",
        "EPOCHS = 3"
      ],
      "execution_count": null,
      "outputs": []
    },
    {
      "cell_type": "markdown",
      "metadata": {
        "id": "T05lokD2ARTn",
        "colab_type": "text"
      },
      "source": [
        "load in pre-trained word vectors"
      ]
    },
    {
      "cell_type": "code",
      "metadata": {
        "id": "IvIL8tcVARTo",
        "colab_type": "code",
        "colab": {}
      },
      "source": [
        "word2vec = {}\n",
        "with open(os.path.join('/content/gdrive/My Drive/glove.6B.%sd.txt' % EMBEDDING_DIM)) as f:\n",
        "  # is just a space-separated text file in the format:\n",
        "  # word vec[0] vec[1] vec[2] ...\n",
        "  for line in f:\n",
        "    values = line.split()\n",
        "    word = values[0]\n",
        "    vec = np.asarray(values[1:], dtype='float32')\n",
        "    word2vec[word] = vec\n"
      ],
      "execution_count": null,
      "outputs": []
    },
    {
      "cell_type": "code",
      "metadata": {
        "id": "h68EczEPARTs",
        "colab_type": "code",
        "colab": {
          "base_uri": "https://localhost:8080/",
          "height": 34
        },
        "outputId": "cb9f9ffa-1216-407c-dab6-dbe5508a391d"
      },
      "source": [
        "print('Found %s word vectors.' % len(word2vec))"
      ],
      "execution_count": null,
      "outputs": [
        {
          "output_type": "stream",
          "text": [
            "Found 400000 word vectors.\n"
          ],
          "name": "stdout"
        }
      ]
    },
    {
      "cell_type": "code",
      "metadata": {
        "id": "Mog2q5gFARTy",
        "colab_type": "code",
        "colab": {
          "base_uri": "https://localhost:8080/",
          "height": 428
        },
        "outputId": "55ff9254-8fe0-4ba3-a574-17957696a40c"
      },
      "source": [
        "!python -m spacy download en_core_web_sm\n",
        "import spacy\n",
        "\n",
        "nlp = spacy.load(\"en_core_web_sm\")"
      ],
      "execution_count": null,
      "outputs": [
        {
          "output_type": "stream",
          "text": [
            "Requirement already satisfied: en_core_web_sm==2.2.5 from https://github.com/explosion/spacy-models/releases/download/en_core_web_sm-2.2.5/en_core_web_sm-2.2.5.tar.gz#egg=en_core_web_sm==2.2.5 in /usr/local/lib/python3.6/dist-packages (2.2.5)\n",
            "Requirement already satisfied: spacy>=2.2.2 in /usr/local/lib/python3.6/dist-packages (from en_core_web_sm==2.2.5) (2.2.4)\n",
            "Requirement already satisfied: thinc==7.4.0 in /usr/local/lib/python3.6/dist-packages (from spacy>=2.2.2->en_core_web_sm==2.2.5) (7.4.0)\n",
            "Requirement already satisfied: catalogue<1.1.0,>=0.0.7 in /usr/local/lib/python3.6/dist-packages (from spacy>=2.2.2->en_core_web_sm==2.2.5) (1.0.0)\n",
            "Requirement already satisfied: preshed<3.1.0,>=3.0.2 in /usr/local/lib/python3.6/dist-packages (from spacy>=2.2.2->en_core_web_sm==2.2.5) (3.0.2)\n",
            "Requirement already satisfied: numpy>=1.15.0 in /usr/local/lib/python3.6/dist-packages (from spacy>=2.2.2->en_core_web_sm==2.2.5) (1.18.5)\n",
            "Requirement already satisfied: blis<0.5.0,>=0.4.0 in /usr/local/lib/python3.6/dist-packages (from spacy>=2.2.2->en_core_web_sm==2.2.5) (0.4.1)\n",
            "Requirement already satisfied: srsly<1.1.0,>=1.0.2 in /usr/local/lib/python3.6/dist-packages (from spacy>=2.2.2->en_core_web_sm==2.2.5) (1.0.2)\n",
            "Requirement already satisfied: murmurhash<1.1.0,>=0.28.0 in /usr/local/lib/python3.6/dist-packages (from spacy>=2.2.2->en_core_web_sm==2.2.5) (1.0.2)\n",
            "Requirement already satisfied: tqdm<5.0.0,>=4.38.0 in /usr/local/lib/python3.6/dist-packages (from spacy>=2.2.2->en_core_web_sm==2.2.5) (4.41.1)\n",
            "Requirement already satisfied: setuptools in /usr/local/lib/python3.6/dist-packages (from spacy>=2.2.2->en_core_web_sm==2.2.5) (49.6.0)\n",
            "Requirement already satisfied: cymem<2.1.0,>=2.0.2 in /usr/local/lib/python3.6/dist-packages (from spacy>=2.2.2->en_core_web_sm==2.2.5) (2.0.3)\n",
            "Requirement already satisfied: wasabi<1.1.0,>=0.4.0 in /usr/local/lib/python3.6/dist-packages (from spacy>=2.2.2->en_core_web_sm==2.2.5) (0.7.1)\n",
            "Requirement already satisfied: requests<3.0.0,>=2.13.0 in /usr/local/lib/python3.6/dist-packages (from spacy>=2.2.2->en_core_web_sm==2.2.5) (2.23.0)\n",
            "Requirement already satisfied: plac<1.2.0,>=0.9.6 in /usr/local/lib/python3.6/dist-packages (from spacy>=2.2.2->en_core_web_sm==2.2.5) (1.1.3)\n",
            "Requirement already satisfied: importlib-metadata>=0.20; python_version < \"3.8\" in /usr/local/lib/python3.6/dist-packages (from catalogue<1.1.0,>=0.0.7->spacy>=2.2.2->en_core_web_sm==2.2.5) (1.7.0)\n",
            "Requirement already satisfied: idna<3,>=2.5 in /usr/local/lib/python3.6/dist-packages (from requests<3.0.0,>=2.13.0->spacy>=2.2.2->en_core_web_sm==2.2.5) (2.10)\n",
            "Requirement already satisfied: urllib3!=1.25.0,!=1.25.1,<1.26,>=1.21.1 in /usr/local/lib/python3.6/dist-packages (from requests<3.0.0,>=2.13.0->spacy>=2.2.2->en_core_web_sm==2.2.5) (1.24.3)\n",
            "Requirement already satisfied: certifi>=2017.4.17 in /usr/local/lib/python3.6/dist-packages (from requests<3.0.0,>=2.13.0->spacy>=2.2.2->en_core_web_sm==2.2.5) (2020.6.20)\n",
            "Requirement already satisfied: chardet<4,>=3.0.2 in /usr/local/lib/python3.6/dist-packages (from requests<3.0.0,>=2.13.0->spacy>=2.2.2->en_core_web_sm==2.2.5) (3.0.4)\n",
            "Requirement already satisfied: zipp>=0.5 in /usr/local/lib/python3.6/dist-packages (from importlib-metadata>=0.20; python_version < \"3.8\"->catalogue<1.1.0,>=0.0.7->spacy>=2.2.2->en_core_web_sm==2.2.5) (3.1.0)\n",
            "\u001b[38;5;2m✔ Download and installation successful\u001b[0m\n",
            "You can now load the model via spacy.load('en_core_web_sm')\n"
          ],
          "name": "stdout"
        }
      ]
    },
    {
      "cell_type": "markdown",
      "metadata": {
        "id": "XEpDF2wVART4",
        "colab_type": "text"
      },
      "source": [
        "prepare text samples and their labels <br/>\n",
        "**this takes some time bcz it is RAM efficient**"
      ]
    },
    {
      "cell_type": "code",
      "metadata": {
        "id": "5tS0a_cFART6",
        "colab_type": "code",
        "colab": {
          "base_uri": "https://localhost:8080/",
          "height": 34
        },
        "outputId": "e808515a-800c-4f27-9fde-5a5c31d9f330"
      },
      "source": [
        "import time\n",
        "start_time = time.time()\n",
        "\n",
        "words = np.empty(0,dtype='object')\n",
        "targets = np.empty(0,dtype='int')\n",
        "labels = { \"ArtOrDet\":2,\"Nn\":3,\"Vt\":4,\"Prep\":5,\"Vform\":6,\"Wform\":7,\"SVA\":8 }\n",
        "i=0\n",
        "f=open('/content/gdrive/My Drive/conll14st-preprocessed.m2')\n",
        "line = f.readline()\n",
        "while line:\n",
        "    line = line.strip()\n",
        "    if line:\n",
        "        if re.search(\"^S\",line):\n",
        "            line = line[2:]\n",
        "            minfull=\"\"\n",
        "            lenline = len(line.split())\n",
        "            a=np.ones(lenline,dtype='int')\n",
        "            b=np.empty(0,dtype='object')\n",
        "            targets=np.concatenate([targets,a])\n",
        "            doc = nlp(line)\n",
        "            for token in doc:\n",
        "                minfull=minfull+token.pos_+\" \"\n",
        "            for word in line.split():\n",
        "                b=np.concatenate([b,[word+\" \"+minfull]])\n",
        "                #words=np.append(words,word+\" \"+minfull)\n",
        "            words = np.concatenate([words,b])\n",
        "            i = i + lenline\n",
        "#             j=j+1\n",
        "#             print(j)\n",
        "        elif re.search(\"^A\",line):\n",
        "            # found annotation\n",
        "            for key in labels:\n",
        "                if re.search(key,line):\n",
        "                    if lenline > int(line[2:4]):\n",
        "                        targets[i-lenline+int(line[2:4])]=int(labels.get(key))\n",
        "                    else:\n",
        "                        targets[i-lenline+(int(line[2:4])-1)]=int(labels.get(key))\n",
        "                    #print(words)\n",
        "                    #print(targets)\n",
        "                    #print(pos)\n",
        "                    break\n",
        "    line=f.readline()\n",
        "print(\"--- %s seconds ---\" % (time.time() - start_time))\n"
      ],
      "execution_count": null,
      "outputs": [
        {
          "output_type": "stream",
          "text": [
            "--- 1416.0582814216614 seconds ---\n"
          ],
          "name": "stdout"
        }
      ]
    },
    {
      "cell_type": "code",
      "metadata": {
        "id": "DmnYHKV9ARUA",
        "colab_type": "code",
        "colab": {
          "base_uri": "https://localhost:8080/",
          "height": 68
        },
        "outputId": "acf4e716-0acb-4747-84a3-5e23b71a749e"
      },
      "source": [
        "print(words[45])\n",
        "print(words.shape)\n",
        "print(targets.shape)\n",
        "# dd = [words,pos,targets]\n",
        "\n",
        "# pos_ = np.array([pos],dtype='object')\n",
        "# pos_ = pos_.T\n",
        "# word = np.array([words],dtype='object')\n",
        "# word = word.T\n",
        "# target = np.array([targets],dtype='object')\n",
        "# target = target.T"
      ],
      "execution_count": null,
      "outputs": [
        {
          "output_type": "stream",
          "text": [
            "caused DET VERB PUNCT SCONJ PART ADV PUNCT VERB NOUN SCONJ PRON AUX ADV ADJ NOUN ADP PRON PUNCT \n",
            "(1161567,)\n",
            "(1161567,)\n"
          ],
          "name": "stdout"
        }
      ]
    },
    {
      "cell_type": "markdown",
      "metadata": {
        "id": "d0nMLQaFARUI",
        "colab_type": "text"
      },
      "source": [
        "convert the sentences (strings) into integers"
      ]
    },
    {
      "cell_type": "code",
      "metadata": {
        "id": "TDttWaJAARUJ",
        "colab_type": "code",
        "colab": {}
      },
      "source": [
        "tokenizer = Tokenizer( num_words=MAX_VOCAB_SIZE, filters='\\t\\n')\n",
        "tokenizer.fit_on_texts(words)\n",
        "sequences = tokenizer.texts_to_sequences(words)\n",
        "\n",
        "word2idx = tokenizer.word_index"
      ],
      "execution_count": null,
      "outputs": []
    },
    {
      "cell_type": "code",
      "metadata": {
        "id": "JkmbrONiARUP",
        "colab_type": "code",
        "colab": {
          "base_uri": "https://localhost:8080/",
          "height": 102
        },
        "outputId": "af689119-508b-484c-a50e-924e1448a3ca"
      },
      "source": [
        "print(\"sequence[0]: \", sequences[45])\n",
        "print(type(sequences))\n",
        "\n",
        "print(\"max sequence length:\", max(len(s) for s in sequences))\n",
        "print(\"min sequence length:\", min(len(s) for s in sequences))\n",
        "# s = sorted(len(s) for s in sequences)\n",
        "# print(\"median sequence length:\", s[len(s) // 2])\n",
        "#\n",
        "# print(\"max word index:\", max(max(seq) for seq in sequences if len(seq) > 0))\n",
        "\n",
        "print('Found %s unique tokens.' % len(word2idx))\n",
        "# print(next(iter(word2idx)))"
      ],
      "execution_count": null,
      "outputs": [
        {
          "output_type": "stream",
          "text": [
            "sequence[0]:  [377, 4, 3, 2, 12, 10, 9, 2, 3, 1, 12, 13, 8, 9, 6, 1, 5, 13, 2]\n",
            "<class 'list'>\n",
            "max sequence length: 232\n",
            "min sequence length: 2\n",
            "Found 29361 unique tokens.\n"
          ],
          "name": "stdout"
        }
      ]
    },
    {
      "cell_type": "markdown",
      "metadata": {
        "id": "LH7wYYjxARUT",
        "colab_type": "text"
      },
      "source": [
        "pad sequences so that we get a N x T matrix"
      ]
    },
    {
      "cell_type": "code",
      "metadata": {
        "id": "dNz2m_1zARUU",
        "colab_type": "code",
        "colab": {}
      },
      "source": [
        "\n",
        "data = pad_sequences(sequences, maxlen=MAX_SEQUENCE_LENGTH)\n"
      ],
      "execution_count": null,
      "outputs": []
    },
    {
      "cell_type": "code",
      "metadata": {
        "id": "q08RnZJQIdoM",
        "colab_type": "code",
        "colab": {
          "base_uri": "https://localhost:8080/",
          "height": 34
        },
        "outputId": "751c82a7-2892-4eb2-d375-79c07ff84e46"
      },
      "source": [
        "from sklearn import preprocessing\n",
        "lb = preprocessing.LabelBinarizer()\n",
        "ybin = lb.fit(targets)\n",
        "lb.classes_\n"
      ],
      "execution_count": null,
      "outputs": [
        {
          "output_type": "execute_result",
          "data": {
            "text/plain": [
              "array([1, 2, 3, 4, 5, 6, 7, 8])"
            ]
          },
          "metadata": {
            "tags": []
          },
          "execution_count": 12
        }
      ]
    },
    {
      "cell_type": "code",
      "metadata": {
        "id": "xXC5hlr-I9-m",
        "colab_type": "code",
        "colab": {
          "base_uri": "https://localhost:8080/",
          "height": 51
        },
        "outputId": "523f5526-f546-4b14-ef5f-aa7818b4156f"
      },
      "source": [
        "targ = lb.transform(targets)\n",
        "print(targ[45])\n",
        "print(targ.shape)"
      ],
      "execution_count": null,
      "outputs": [
        {
          "output_type": "stream",
          "text": [
            "[0 0 0 0 0 1 0 0]\n",
            "(1161567, 8)\n"
          ],
          "name": "stdout"
        }
      ]
    },
    {
      "cell_type": "code",
      "metadata": {
        "id": "NolcqFTTARUY",
        "colab_type": "code",
        "colab": {}
      },
      "source": [
        "# del words\n",
        "# del sequences\n",
        "# del targets"
      ],
      "execution_count": null,
      "outputs": []
    },
    {
      "cell_type": "code",
      "metadata": {
        "scrolled": true,
        "id": "ExsLm192ARUe",
        "colab_type": "code",
        "colab": {
          "base_uri": "https://localhost:8080/",
          "height": 323
        },
        "outputId": "f60502fc-577b-4ffb-ed96-4d73e1d6abaf"
      },
      "source": [
        "print(\"data[0]\", data[0])\n",
        "print('Shape of data tensor:', data.shape)"
      ],
      "execution_count": null,
      "outputs": [
        {
          "output_type": "stream",
          "text": [
            "data[0] [   0    0    0    0    0    0    0    0    0    0    0    0    0    0\n",
            "    0    0    0    0    0    0    0    0    0    0    0    0    0    0\n",
            "    0    0    0    0    0    0    0    0    0    0    0    0    0    0\n",
            "    0    0    0    0    0    0    0    0    0    0    0    0    0    0\n",
            "    0    0    0    0    0    0    0    0    0    0    0    0    0    0\n",
            "    0    0    0    0    0    0    0    0    0    0    0    0    0    0\n",
            "    0    0    0    0    0    0    0    0    0    0    0    0    0    0\n",
            "    0    0    0    0    0    0    0    0    0    0    0    0    0    0\n",
            "    0    0    0    0    0    0    0    0    0    0    0    0    0    0\n",
            "    0    0    0    0    0    0    0    0    0    0    0    0    0    0\n",
            "    0    0    0    0    0    0    0    0    0    0    0    0    0    0\n",
            "    0    0    0    0    0    0    0    0    0    0    0    0    0    0\n",
            "    0    0    0    0    0    0    0    0    0    0    0    0    0    0\n",
            "    0    0    0    0    0    0    0    0    0    0    0    0    0    0\n",
            "    0    0    0    0    0    0    0    0    0    0    0    0    0    0\n",
            "    0    0    0    0    0    0    0    0    0    0    0    0    0    0\n",
            "    0    0    0 1069    3    4    1    1]\n",
            "Shape of data tensor: (1161567, 232)\n"
          ],
          "name": "stdout"
        }
      ]
    },
    {
      "cell_type": "code",
      "metadata": {
        "id": "HWRgc5jQARUh",
        "colab_type": "code",
        "colab": {}
      },
      "source": [
        "x_training, x_test = data[:929254], data[929254:]\n",
        "y_training, y_test = targ[:929254], targ[929254:]"
      ],
      "execution_count": null,
      "outputs": []
    },
    {
      "cell_type": "code",
      "metadata": {
        "id": "MxKuGp2AARUp",
        "colab_type": "code",
        "colab": {
          "base_uri": "https://localhost:8080/",
          "height": 51
        },
        "outputId": "d625558d-ad48-49f1-c3ab-f3edced08ccf"
      },
      "source": [
        "print(type(y_training))\n",
        "print(y_training[45])"
      ],
      "execution_count": null,
      "outputs": [
        {
          "output_type": "stream",
          "text": [
            "<class 'numpy.ndarray'>\n",
            "[0 0 0 0 0 1 0 0]\n"
          ],
          "name": "stdout"
        }
      ]
    },
    {
      "cell_type": "code",
      "metadata": {
        "id": "OeTKto5kARUv",
        "colab_type": "code",
        "colab": {
          "base_uri": "https://localhost:8080/",
          "height": 34
        },
        "outputId": "1f4404d0-2b14-4c25-bbe7-dff942dfc1ae"
      },
      "source": [
        "[word for word, index in word2idx.items() if index == 1069]"
      ],
      "execution_count": null,
      "outputs": [
        {
          "output_type": "execute_result",
          "data": {
            "text/plain": [
              "['creating']"
            ]
          },
          "metadata": {
            "tags": []
          },
          "execution_count": 18
        }
      ]
    },
    {
      "cell_type": "markdown",
      "metadata": {
        "id": "sA2GUvUdARUy",
        "colab_type": "text"
      },
      "source": [
        "prepare embedding matrix <br/>\n",
        "Filling pre-trained embeddings..."
      ]
    },
    {
      "cell_type": "code",
      "metadata": {
        "id": "lXDJQwMTARUz",
        "colab_type": "code",
        "colab": {
          "base_uri": "https://localhost:8080/",
          "height": 34
        },
        "outputId": "41db6fc3-b368-4608-f929-fe5d290a7ccb"
      },
      "source": [
        "print(\"len word2idx\", len(word2idx))\n",
        "num_words = min(MAX_VOCAB_SIZE, len(word2idx) + 1)\n",
        "embedding_matrix = np.zeros((num_words, EMBEDDING_DIM))\n",
        "for word, i in word2idx.items():\n",
        "  if i < MAX_VOCAB_SIZE:\n",
        "    embedding_vector = word2vec.get(word)\n",
        "    if embedding_vector is not None:\n",
        "      # words not found in embedding index will be all zeros.\n",
        "      embedding_matrix[i] = embedding_vector\n"
      ],
      "execution_count": null,
      "outputs": [
        {
          "output_type": "stream",
          "text": [
            "len word2idx 29361\n"
          ],
          "name": "stdout"
        }
      ]
    },
    {
      "cell_type": "code",
      "metadata": {
        "id": "u154r4WrARU6",
        "colab_type": "code",
        "colab": {
          "base_uri": "https://localhost:8080/",
          "height": 204
        },
        "outputId": "5c9a6016-42dc-4dd6-cfca-3d82ced2e9e1"
      },
      "source": [
        "print(\"embedding_matrix shape:\", embedding_matrix.shape)\n",
        "print(word2idx.get(\"creating\"))\n",
        "print(\"embedding_matrix[1113]\", embedding_matrix[1113])"
      ],
      "execution_count": null,
      "outputs": [
        {
          "output_type": "stream",
          "text": [
            "embedding_matrix shape: (29362, 50)\n",
            "1069\n",
            "embedding_matrix[1113] [ 0.48642001  0.019708    0.16084    -0.28112999  0.89911997 -0.51431\n",
            " -1.05369997  0.026241   -0.12318    -0.048724   -0.21479     0.10296\n",
            " -0.59197003  0.5485      0.41898999  0.49074     0.25940001 -0.029574\n",
            "  0.10371    -1.00440001 -0.19932     0.68664002 -0.012095    0.15971\n",
            "  0.27667999 -1.62740004 -0.50143999  0.65354002  0.49399    -0.60229999\n",
            "  2.80110002  0.52823001  0.14562    -0.47027001  0.099409    0.042991\n",
            " -0.63940001  0.49011999 -0.054747   -1.01750004 -0.32962     0.10784\n",
            "  0.37882999  0.30917999  0.61277002 -0.10532     0.097498   -0.050574\n",
            "  0.19356     0.17562   ]\n"
          ],
          "name": "stdout"
        }
      ]
    },
    {
      "cell_type": "markdown",
      "metadata": {
        "id": "FGSasRX3ARVB",
        "colab_type": "text"
      },
      "source": [
        "load pre-trained word embeddings into an Embedding layer <br/>\n",
        "note that we set trainable = False so as to keep the embeddings fixed <br/>\n",
        "Building Embedding layer ..."
      ]
    },
    {
      "cell_type": "code",
      "metadata": {
        "id": "TbswejPNARVC",
        "colab_type": "code",
        "colab": {}
      },
      "source": [
        "embedding_layer = Embedding(\n",
        "  num_words,\n",
        "  EMBEDDING_DIM,\n",
        "  weights=[embedding_matrix],\n",
        "  input_length=MAX_SEQUENCE_LENGTH,\n",
        "  trainable=False\n",
        ")"
      ],
      "execution_count": null,
      "outputs": []
    },
    {
      "cell_type": "markdown",
      "metadata": {
        "id": "W0vbItq-ARVI",
        "colab_type": "text"
      },
      "source": [
        "Building model..."
      ]
    },
    {
      "cell_type": "code",
      "metadata": {
        "id": "oeWxEAyQARVJ",
        "colab_type": "code",
        "colab": {}
      },
      "source": [
        "input_ = Input(shape=(MAX_SEQUENCE_LENGTH,))\n",
        "x = embedding_layer(input_)\n",
        "x = Dense(200, activation='relu')(x)\n",
        "x = LSTM(128, dropout=0.2,return_sequences=True)(x)\n",
        "# x = MaxPooling1D(3)(x)\n",
        "# x = Dropout(0.2)(x)\n",
        "# x = Conv1D(128, 3, activation='relu')(x)\n",
        "# x = MaxPooling1D(3)(x)\n",
        "# x = Dropout(0.2)(x)\n",
        "x = LSTM(128, dropout=0.2, return_sequences=True)(x)\n",
        "x = GlobalMaxPooling1D()(x)\n",
        "# x = Dropout(0.2)(x)\n",
        "# x = Dense(128, activation='relu')(x)\n",
        "output = Dense(8, activation='softmax')(x)\n",
        "#this takes waay too much time\n",
        "model = Model(input_, output)"
      ],
      "execution_count": null,
      "outputs": []
    },
    {
      "cell_type": "code",
      "metadata": {
        "id": "sjzgJjRJARVN",
        "colab_type": "code",
        "colab": {
          "base_uri": "https://localhost:8080/",
          "height": 425
        },
        "outputId": "0ea91422-960c-483b-c72c-8196f60585d6"
      },
      "source": [
        "model.compile(\n",
        "   loss='categorical_crossentropy',\n",
        "   optimizer='adam',\n",
        "   metrics=['accuracy']\n",
        ")\n",
        "# Display the model's architecture\n",
        "model.summary()"
      ],
      "execution_count": null,
      "outputs": [
        {
          "output_type": "stream",
          "text": [
            "Model: \"functional_15\"\n",
            "_________________________________________________________________\n",
            "Layer (type)                 Output Shape              Param #   \n",
            "=================================================================\n",
            "input_8 (InputLayer)         [(None, 232)]             0         \n",
            "_________________________________________________________________\n",
            "embedding_4 (Embedding)      (None, 232, 50)           1468100   \n",
            "_________________________________________________________________\n",
            "dense_14 (Dense)             (None, 232, 200)          10200     \n",
            "_________________________________________________________________\n",
            "conv1d_3 (Conv1D)            (None, 230, 128)          76928     \n",
            "_________________________________________________________________\n",
            "conv1d_4 (Conv1D)            (None, 228, 128)          49280     \n",
            "_________________________________________________________________\n",
            "conv1d_5 (Conv1D)            (None, 226, 128)          49280     \n",
            "_________________________________________________________________\n",
            "global_max_pooling1d_6 (Glob (None, 128)               0         \n",
            "_________________________________________________________________\n",
            "dense_15 (Dense)             (None, 8)                 1032      \n",
            "=================================================================\n",
            "Total params: 1,654,820\n",
            "Trainable params: 186,720\n",
            "Non-trainable params: 1,468,100\n",
            "_________________________________________________________________\n"
          ],
          "name": "stdout"
        }
      ]
    },
    {
      "cell_type": "code",
      "metadata": {
        "id": "fG7j27G8ARVR",
        "colab_type": "code",
        "colab": {
          "base_uri": "https://localhost:8080/",
          "height": 136
        },
        "outputId": "78b8d6a4-400b-439c-ec88-f69db90786eb"
      },
      "source": [
        "print('Training model...')\n",
        "r = model.fit(\n",
        "  x_training,\n",
        "  y_training,\n",
        "  batch_size=BATCH_SIZE,\n",
        "  epochs=EPOCHS,\n",
        "  validation_split=VALIDATION_SPLIT\n",
        ")"
      ],
      "execution_count": null,
      "outputs": [
        {
          "output_type": "stream",
          "text": [
            "Training model...\n",
            "Epoch 1/3\n",
            "5808/5808 [==============================] - 107s 18ms/step - loss: 0.1228 - accuracy: 0.9794 - val_loss: 0.1001 - val_accuracy: 0.9836\n",
            "Epoch 2/3\n",
            "5808/5808 [==============================] - 109s 19ms/step - loss: 0.1129 - accuracy: 0.9795 - val_loss: 0.0976 - val_accuracy: 0.9836\n",
            "Epoch 3/3\n",
            "5808/5808 [==============================] - 108s 19ms/step - loss: 0.1100 - accuracy: 0.9795 - val_loss: 0.0966 - val_accuracy: 0.9836\n"
          ],
          "name": "stdout"
        }
      ]
    },
    {
      "cell_type": "code",
      "metadata": {
        "id": "1Zpk2PNyARVU",
        "colab_type": "code",
        "colab": {
          "base_uri": "https://localhost:8080/",
          "height": 34
        },
        "outputId": "19c22ef9-368a-4f43-ffbc-a294ed176afd"
      },
      "source": [
        "e = model.evaluate(\n",
        "    x_test,\n",
        "    y_test\n",
        ")"
      ],
      "execution_count": null,
      "outputs": [
        {
          "output_type": "stream",
          "text": [
            "7260/7260 [==============================] - 25s 3ms/step - loss: 0.0780 - accuracy: 0.9878\n"
          ],
          "name": "stdout"
        }
      ]
    },
    {
      "cell_type": "markdown",
      "metadata": {
        "id": "6yg6F-XYARVZ",
        "colab_type": "text"
      },
      "source": [
        "plot some data"
      ]
    },
    {
      "cell_type": "code",
      "metadata": {
        "id": "uqENomfBARVa",
        "colab_type": "code",
        "colab": {}
      },
      "source": [
        "%matplotlib inline"
      ],
      "execution_count": null,
      "outputs": []
    },
    {
      "cell_type": "code",
      "metadata": {
        "id": "nSmDc0_iARVg",
        "colab_type": "code",
        "colab": {
          "base_uri": "https://localhost:8080/",
          "height": 513
        },
        "outputId": "69f2def3-4f3e-4e65-f18a-1f0c4bc60795"
      },
      "source": [
        "plt.plot(r.history['loss'], label='loss')\n",
        "plt.plot(r.history['val_loss'], label='val_loss')\n",
        "plt.legend()\n",
        "plt.show()\n",
        "\n",
        "\n",
        "plt.plot(r.history['accuracy'], label='acc')\n",
        "plt.plot(r.history['val_accuracy'], label='val_acc')\n",
        "plt.legend()\n",
        "plt.show()\n"
      ],
      "execution_count": null,
      "outputs": [
        {
          "output_type": "display_data",
          "data": {
            "image/png": "[encoded data removed]",
            "text/plain": [
              "<Figure size 432x288 with 1 Axes>"
            ]
          },
          "metadata": {
            "tags": [],
            "needs_background": "light"
          }
        },
        {
          "output_type": "display_data",
          "data": {
            "image/png": "[encoded data removed]",
            "text/plain": [
              "<Figure size 432x288 with 1 Axes>"
            ]
          },
          "metadata": {
            "tags": [],
            "needs_background": "light"
          }
        }
      ]
    },
    {
      "cell_type": "code",
      "metadata": {
        "id": "kMeS4tszARVk",
        "colab_type": "code",
        "colab": {
          "base_uri": "https://localhost:8080/",
          "height": 34
        },
        "outputId": "30d7ccad-4dc4-46d1-a04b-0ba96492e117"
      },
      "source": [
        "p = model.predict(x_training)\n",
        "aucs = []\n",
        "for j in range(6):\n",
        "    auc = roc_auc_score(y_training[:,j], p[:,j])\n",
        "    aucs.append(auc)\n",
        "print(np.mean(aucs))"
      ],
      "execution_count": null,
      "outputs": [
        {
          "output_type": "stream",
          "text": [
            "0.8612828382619467\n"
          ],
          "name": "stdout"
        }
      ]
    },
    {
      "cell_type": "code",
      "metadata": {
        "id": "IS7FR0mKARVp",
        "colab_type": "code",
        "colab": {
          "base_uri": "https://localhost:8080/",
          "height": 34
        },
        "outputId": "945b13f7-8d68-4579-e33a-9111649af68b"
      },
      "source": [
        "# scores = model.evaluate(X_test, y_test, verbose=0)\n",
        "print(\"Accuracy: %.2f%%\" % (e[1]*100))"
      ],
      "execution_count": null,
      "outputs": [
        {
          "output_type": "stream",
          "text": [
            "Accuracy: 98.78%\n"
          ],
          "name": "stdout"
        }
      ]
    },
    {
      "cell_type": "code",
      "metadata": {
        "id": "0dtq_InWCXfl",
        "colab_type": "code",
        "colab": {}
      },
      "source": [
        "model.save('/content/gdrive/My Drive/GEC_7C.h5')"
      ],
      "execution_count": null,
      "outputs": []
    }
  ]
}